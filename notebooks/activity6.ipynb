{
 "cells": [
  {
   "cell_type": "code",
   "execution_count": 38,
   "metadata": {
    "collapsed": true
   },
   "outputs": [
    {
     "name": "stdout",
     "output_type": "stream",
     "text": [
      "City\n",
      "New York                8190209\n",
      "Los Angeles             3795512\n",
      "Chicago                 2697477\n",
      "Houston                 2100280\n",
      "Phoenix                 1449038\n",
      "Philadelphia            1528283\n",
      "San Antonio             1332299\n",
      "San Diego               1305906\n",
      "Dallas                  1200350\n",
      "San Jose                 954940\n",
      "Austin                   806164\n",
      "Jacksonville             823114\n",
      "Fort Worth               748441\n",
      "Columbus                 790943\n",
      "Charlotte                738444\n",
      "San Francisco            805505\n",
      "Indianapolis             821579\n",
      "Seattle                  610630\n",
      "Denver                   603359\n",
      "District of Columbia     605226\n",
      "Name: 2010, dtype: int64\n",
      "\n",
      "City\n",
      "New York                8336817\n",
      "Los Angeles             3979576\n",
      "Chicago                 2693976\n",
      "Houston                 2320268\n",
      "Phoenix                 1680992\n",
      "Philadelphia            1584064\n",
      "San Antonio             1547253\n",
      "San Diego               1423851\n",
      "Dallas                  1343573\n",
      "San Jose                1021795\n",
      "Austin                   978908\n",
      "Jacksonville             911507\n",
      "Fort Worth               909585\n",
      "Columbus                 898553\n",
      "Charlotte                885708\n",
      "San Francisco            881549\n",
      "Indianapolis             876384\n",
      "Seattle                  753675\n",
      "Denver                   727211\n",
      "District of Columbia     705749\n",
      "Name: 2019, dtype: int64\n",
      "\n",
      "Top 3 changed 2.2 %\n",
      "vs. all changed 8.0 %\n"
     ]
    }
   ],
   "source": [
    "# Step 1: Importing the lib\n",
    "import pandas as pd\n",
    "\n",
    "# Step 2 and 4: Reading the CSVs\n",
    "populations = [\n",
    "    pd.read_csv('../data/US_Census_SUB-IP-EST2019-ANNRNK_top_20_2010.csv', index_col=[0]).squeeze('columns'),\n",
    "    pd.read_csv('../data/US_Census_SUB-IP-EST2019-ANNRNK_top_20_2019.csv', index_col=[0]).squeeze('columns')\n",
    "]\n",
    "\n",
    "top_3_pops = [] # Array to store the top 3 populations\n",
    "all_pops = [] # Array to store all pops\n",
    "\n",
    "# Iterating through the populations read in to get the sums for the top 3 and overall\n",
    "for pop in populations:\n",
    "    print(f'{pop}\\n') # Part of step 2 and 4\n",
    "    top_3_pops.append(sum(pop.values[:3])) # for Step 3 and 5\n",
    "    all_pops.append(sum(pop)) # for step 6\n",
    "\n",
    "# Step 6\n",
    "top_3_change_percent = (top_3_pops[1] - top_3_pops[0]) / top_3_pops[0] * 100\n",
    "all_change_percent = (all_pops[1] - all_pops[0]) / all_pops[0] * 100\n",
    "\n",
    "print(f'Top 3 changed {round(top_3_change_percent,1)} %\\n'\n",
    "      f'vs. all changed {round(all_change_percent,1)} %')\n"
   ]
  }
 ],
 "metadata": {
  "kernelspec": {
   "display_name": "Python 3",
   "language": "python",
   "name": "python3"
  },
  "language_info": {
   "codemirror_mode": {
    "name": "ipython",
    "version": 2
   },
   "file_extension": ".py",
   "mimetype": "text/x-python",
   "name": "python",
   "nbconvert_exporter": "python",
   "pygments_lexer": "ipython2",
   "version": "2.7.6"
  }
 },
 "nbformat": 4,
 "nbformat_minor": 0
}
