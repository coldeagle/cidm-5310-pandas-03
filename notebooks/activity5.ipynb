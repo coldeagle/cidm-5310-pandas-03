{
 "cells": [
  {
   "cell_type": "code",
   "execution_count": 14,
   "metadata": {
    "collapsed": true
   },
   "outputs": [
    {
     "name": "stdout",
     "output_type": "stream",
     "text": [
      "  class cap-shape cap-surface cap-color bruises odor gill-attachment  \\\n",
      "0     p         x           s         n       t    p               f   \n",
      "1     e         x           s         y       t    a               f   \n",
      "2     e         b           s         w       t    l               f   \n",
      "3     p         x           y         w       t    p               f   \n",
      "4     e         x           s         g       f    n               f   \n",
      "\n",
      "  gill-spacing gill-size gill-color  ... stalk-surface-below-ring  \\\n",
      "0            c         n          k  ...                        s   \n",
      "1            c         b          k  ...                        s   \n",
      "2            c         b          n  ...                        s   \n",
      "3            c         n          n  ...                        s   \n",
      "4            w         b          k  ...                        s   \n",
      "\n",
      "  stalk-color-above-ring stalk-color-below-ring veil-type veil-color  \\\n",
      "0                      w                      w         p          w   \n",
      "1                      w                      w         p          w   \n",
      "2                      w                      w         p          w   \n",
      "3                      w                      w         p          w   \n",
      "4                      w                      w         p          w   \n",
      "\n",
      "  ring-number ring-type spore-print-color population habitat  \n",
      "0           o         p                 k          s       u  \n",
      "1           o         p                 n          n       g  \n",
      "2           o         p                 n          n       m  \n",
      "3           o         p                 k          s       u  \n",
      "4           o         e                 n          a       g  \n",
      "\n",
      "[5 rows x 23 columns]\n",
      "Index(['class', 'cap-shape', 'cap-surface', 'cap-color', 'bruises', 'odor',\n",
      "       'gill-attachment', 'gill-spacing', 'gill-size', 'gill-color',\n",
      "       'stalk-shape', 'stalk-root', 'stalk-surface-above-ring',\n",
      "       'stalk-surface-below-ring', 'stalk-color-above-ring',\n",
      "       'stalk-color-below-ring', 'veil-type', 'veil-color', 'ring-number',\n",
      "       'ring-type', 'spore-print-color', 'population', 'habitat'],\n",
      "      dtype='object')\n"
     ]
    },
    {
     "data": {
      "text/plain": "                   cap-shape cap-surface cap-color bruises odor  \\\npopulation habitat                                                \nn          g               x           s         y       t    a   \n           m               b           s         w       t    l   \na          g               x           s         g       f    n   \nn          g               x           y         y       t    a   \n           m               b           s         w       t    a   \n...                      ...         ...       ...     ...  ...   \nv          l               x           s         n       f    n   \nc          l               k           s         n       f    n   \nv          l               x           s         n       f    n   \nc          l               f           s         n       f    n   \n           l               x           s         n       f    n   \n\n                   gill-attachment gill-spacing gill-size gill-color  \\\npopulation habitat                                                     \nn          g                     f            c         b          k   \n           m                     f            c         b          n   \na          g                     f            w         b          k   \nn          g                     f            c         b          n   \n           m                     f            c         b          g   \n...                            ...          ...       ...        ...   \nv          l                     a            c         b          y   \nc          l                     a            c         b          y   \nv          l                     a            c         b          y   \nc          l                     a            c         b          n   \n           l                     a            c         b          y   \n\n                   stalk-shape stalk-root stalk-surface-above-ring  \\\npopulation habitat                                                   \nn          g                 e          c                        s   \n           m                 e          c                        s   \na          g                 t          e                        s   \nn          g                 e          c                        s   \n           m                 e          c                        s   \n...                        ...        ...                      ...   \nv          l                 e          ?                        s   \nc          l                 e          ?                        s   \nv          l                 e          ?                        s   \nc          l                 e          ?                        s   \n           l                 e          ?                        s   \n\n                   stalk-surface-below-ring stalk-color-above-ring  \\\npopulation habitat                                                   \nn          g                              s                      w   \n           m                              s                      w   \na          g                              s                      w   \nn          g                              s                      w   \n           m                              s                      w   \n...                                     ...                    ...   \nv          l                              s                      o   \nc          l                              s                      o   \nv          l                              s                      o   \nc          l                              s                      o   \n           l                              s                      o   \n\n                   stalk-color-below-ring veil-type veil-color ring-number  \\\npopulation habitat                                                           \nn          g                            w         p          w           o   \n           m                            w         p          w           o   \na          g                            w         p          w           o   \nn          g                            w         p          w           o   \n           m                            w         p          w           o   \n...                                   ...       ...        ...         ...   \nv          l                            o         p          o           o   \nc          l                            o         p          o           o   \nv          l                            o         p          n           o   \nc          l                            o         p          o           o   \n           l                            o         p          o           o   \n\n                   ring-type spore-print-color  \npopulation habitat                              \nn          g               p                 n  \n           m               p                 n  \na          g               e                 n  \nn          g               p                 k  \n           m               p                 k  \n...                      ...               ...  \nv          l               p                 o  \nc          l               p                 b  \nv          l               p                 b  \nc          l               p                 b  \n           l               p                 o  \n\n[4208 rows x 20 columns]",
      "text/html": "<div>\n<style scoped>\n    .dataframe tbody tr th:only-of-type {\n        vertical-align: middle;\n    }\n\n    .dataframe tbody tr th {\n        vertical-align: top;\n    }\n\n    .dataframe thead th {\n        text-align: right;\n    }\n</style>\n<table border=\"1\" class=\"dataframe\">\n  <thead>\n    <tr style=\"text-align: right;\">\n      <th></th>\n      <th></th>\n      <th>cap-shape</th>\n      <th>cap-surface</th>\n      <th>cap-color</th>\n      <th>bruises</th>\n      <th>odor</th>\n      <th>gill-attachment</th>\n      <th>gill-spacing</th>\n      <th>gill-size</th>\n      <th>gill-color</th>\n      <th>stalk-shape</th>\n      <th>stalk-root</th>\n      <th>stalk-surface-above-ring</th>\n      <th>stalk-surface-below-ring</th>\n      <th>stalk-color-above-ring</th>\n      <th>stalk-color-below-ring</th>\n      <th>veil-type</th>\n      <th>veil-color</th>\n      <th>ring-number</th>\n      <th>ring-type</th>\n      <th>spore-print-color</th>\n    </tr>\n    <tr>\n      <th>population</th>\n      <th>habitat</th>\n      <th></th>\n      <th></th>\n      <th></th>\n      <th></th>\n      <th></th>\n      <th></th>\n      <th></th>\n      <th></th>\n      <th></th>\n      <th></th>\n      <th></th>\n      <th></th>\n      <th></th>\n      <th></th>\n      <th></th>\n      <th></th>\n      <th></th>\n      <th></th>\n      <th></th>\n      <th></th>\n    </tr>\n  </thead>\n  <tbody>\n    <tr>\n      <th rowspan=\"2\" valign=\"top\">n</th>\n      <th>g</th>\n      <td>x</td>\n      <td>s</td>\n      <td>y</td>\n      <td>t</td>\n      <td>a</td>\n      <td>f</td>\n      <td>c</td>\n      <td>b</td>\n      <td>k</td>\n      <td>e</td>\n      <td>c</td>\n      <td>s</td>\n      <td>s</td>\n      <td>w</td>\n      <td>w</td>\n      <td>p</td>\n      <td>w</td>\n      <td>o</td>\n      <td>p</td>\n      <td>n</td>\n    </tr>\n    <tr>\n      <th>m</th>\n      <td>b</td>\n      <td>s</td>\n      <td>w</td>\n      <td>t</td>\n      <td>l</td>\n      <td>f</td>\n      <td>c</td>\n      <td>b</td>\n      <td>n</td>\n      <td>e</td>\n      <td>c</td>\n      <td>s</td>\n      <td>s</td>\n      <td>w</td>\n      <td>w</td>\n      <td>p</td>\n      <td>w</td>\n      <td>o</td>\n      <td>p</td>\n      <td>n</td>\n    </tr>\n    <tr>\n      <th>a</th>\n      <th>g</th>\n      <td>x</td>\n      <td>s</td>\n      <td>g</td>\n      <td>f</td>\n      <td>n</td>\n      <td>f</td>\n      <td>w</td>\n      <td>b</td>\n      <td>k</td>\n      <td>t</td>\n      <td>e</td>\n      <td>s</td>\n      <td>s</td>\n      <td>w</td>\n      <td>w</td>\n      <td>p</td>\n      <td>w</td>\n      <td>o</td>\n      <td>e</td>\n      <td>n</td>\n    </tr>\n    <tr>\n      <th rowspan=\"2\" valign=\"top\">n</th>\n      <th>g</th>\n      <td>x</td>\n      <td>y</td>\n      <td>y</td>\n      <td>t</td>\n      <td>a</td>\n      <td>f</td>\n      <td>c</td>\n      <td>b</td>\n      <td>n</td>\n      <td>e</td>\n      <td>c</td>\n      <td>s</td>\n      <td>s</td>\n      <td>w</td>\n      <td>w</td>\n      <td>p</td>\n      <td>w</td>\n      <td>o</td>\n      <td>p</td>\n      <td>k</td>\n    </tr>\n    <tr>\n      <th>m</th>\n      <td>b</td>\n      <td>s</td>\n      <td>w</td>\n      <td>t</td>\n      <td>a</td>\n      <td>f</td>\n      <td>c</td>\n      <td>b</td>\n      <td>g</td>\n      <td>e</td>\n      <td>c</td>\n      <td>s</td>\n      <td>s</td>\n      <td>w</td>\n      <td>w</td>\n      <td>p</td>\n      <td>w</td>\n      <td>o</td>\n      <td>p</td>\n      <td>k</td>\n    </tr>\n    <tr>\n      <th>...</th>\n      <th>...</th>\n      <td>...</td>\n      <td>...</td>\n      <td>...</td>\n      <td>...</td>\n      <td>...</td>\n      <td>...</td>\n      <td>...</td>\n      <td>...</td>\n      <td>...</td>\n      <td>...</td>\n      <td>...</td>\n      <td>...</td>\n      <td>...</td>\n      <td>...</td>\n      <td>...</td>\n      <td>...</td>\n      <td>...</td>\n      <td>...</td>\n      <td>...</td>\n      <td>...</td>\n    </tr>\n    <tr>\n      <th>v</th>\n      <th>l</th>\n      <td>x</td>\n      <td>s</td>\n      <td>n</td>\n      <td>f</td>\n      <td>n</td>\n      <td>a</td>\n      <td>c</td>\n      <td>b</td>\n      <td>y</td>\n      <td>e</td>\n      <td>?</td>\n      <td>s</td>\n      <td>s</td>\n      <td>o</td>\n      <td>o</td>\n      <td>p</td>\n      <td>o</td>\n      <td>o</td>\n      <td>p</td>\n      <td>o</td>\n    </tr>\n    <tr>\n      <th>c</th>\n      <th>l</th>\n      <td>k</td>\n      <td>s</td>\n      <td>n</td>\n      <td>f</td>\n      <td>n</td>\n      <td>a</td>\n      <td>c</td>\n      <td>b</td>\n      <td>y</td>\n      <td>e</td>\n      <td>?</td>\n      <td>s</td>\n      <td>s</td>\n      <td>o</td>\n      <td>o</td>\n      <td>p</td>\n      <td>o</td>\n      <td>o</td>\n      <td>p</td>\n      <td>b</td>\n    </tr>\n    <tr>\n      <th>v</th>\n      <th>l</th>\n      <td>x</td>\n      <td>s</td>\n      <td>n</td>\n      <td>f</td>\n      <td>n</td>\n      <td>a</td>\n      <td>c</td>\n      <td>b</td>\n      <td>y</td>\n      <td>e</td>\n      <td>?</td>\n      <td>s</td>\n      <td>s</td>\n      <td>o</td>\n      <td>o</td>\n      <td>p</td>\n      <td>n</td>\n      <td>o</td>\n      <td>p</td>\n      <td>b</td>\n    </tr>\n    <tr>\n      <th rowspan=\"2\" valign=\"top\">c</th>\n      <th>l</th>\n      <td>f</td>\n      <td>s</td>\n      <td>n</td>\n      <td>f</td>\n      <td>n</td>\n      <td>a</td>\n      <td>c</td>\n      <td>b</td>\n      <td>n</td>\n      <td>e</td>\n      <td>?</td>\n      <td>s</td>\n      <td>s</td>\n      <td>o</td>\n      <td>o</td>\n      <td>p</td>\n      <td>o</td>\n      <td>o</td>\n      <td>p</td>\n      <td>b</td>\n    </tr>\n    <tr>\n      <th>l</th>\n      <td>x</td>\n      <td>s</td>\n      <td>n</td>\n      <td>f</td>\n      <td>n</td>\n      <td>a</td>\n      <td>c</td>\n      <td>b</td>\n      <td>y</td>\n      <td>e</td>\n      <td>?</td>\n      <td>s</td>\n      <td>s</td>\n      <td>o</td>\n      <td>o</td>\n      <td>p</td>\n      <td>o</td>\n      <td>o</td>\n      <td>p</td>\n      <td>o</td>\n    </tr>\n  </tbody>\n</table>\n<p>4208 rows × 20 columns</p>\n</div>"
     },
     "execution_count": 14,
     "metadata": {},
     "output_type": "execute_result"
    }
   ],
   "source": [
    "# Step 1 - Importing the lib\n",
    "import pandas as pd\n",
    "\n",
    "# Step 2 - Importing CSV and printing the first 5 rows\n",
    "df_fungus = pd.read_csv('../data/mushroom.csv')\n",
    "print(df_fungus.head(5))\n",
    "\n",
    "# Step 3 - Listing columns\n",
    "print(df_fungus.columns)\n",
    "\n",
    "# Step 4 - Creating a custom index of class, population and habitat\n",
    "custom_index = pd.MultiIndex.from_frame(df_fungus[['class','population','habitat']])\n",
    "\n",
    "# Step 5 - Dropping the columns and creating the multi-index\n",
    "df_fungus.drop(columns=['class','population','habitat'], inplace=True)\n",
    "df_fungus.set_index(custom_index, inplace=True)\n",
    "\n",
    "# Step 6 - Displaying the editable fungus\n",
    "df_fungus.loc['e']"
   ]
  }
 ],
 "metadata": {
  "kernelspec": {
   "display_name": "Python 3",
   "language": "python",
   "name": "python3"
  },
  "language_info": {
   "codemirror_mode": {
    "name": "ipython",
    "version": 2
   },
   "file_extension": ".py",
   "mimetype": "text/x-python",
   "name": "python",
   "nbconvert_exporter": "python",
   "pygments_lexer": "ipython2",
   "version": "2.7.6"
  }
 },
 "nbformat": 4,
 "nbformat_minor": 0
}
